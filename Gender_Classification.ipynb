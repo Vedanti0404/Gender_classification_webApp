{
 "cells": [
  {
   "cell_type": "markdown",
   "id": "d7b38bbd-f219-4338-b3b8-9455439e1d96",
   "metadata": {},
   "source": [
    "# Gender Classification Model\n",
    "\n",
    "This notebook demonstrates the process of building a classification model to predict Gender using a dataset. The workflow includes data collection, cleaning, splitting, training, and evaluating the model.\n",
    "\n",
    "## 1. Importing Libraries\n",
    "\n",
    "We'll start by importing the necessary libraries for data manipulation, machine learning, and visualization."
   ]
  },
  {
   "cell_type": "code",
   "execution_count": 36,
   "id": "c41ce85f-38d9-4b00-bbc8-ef87a8be2a64",
   "metadata": {},
   "outputs": [],
   "source": [
    "import pandas as pd # For data manipulation with DataFrames\n",
    "import numpy as np # For numerical operations\n",
    "import matplotlib.pyplot as plt # For data visualization\n",
    "from sklearn.model_selection import train_test_split # For splitting data into training and testing sets\n",
    "from sklearn.naive_bayes import BernoulliNB # For Naive Bayes classification\n",
    "import pickle # For saving the trained model"
   ]
  },
  {
   "cell_type": "markdown",
   "id": "375fb5c8-7a8e-4f9f-bca5-2c568f4ab8b2",
   "metadata": {},
   "source": [
    "# 2. Data Collection\n",
    "We'll load the dataset into a pandas DataFrame. The dataset contains information about patients and whether they have heart disease."
   ]
  },
  {
   "cell_type": "code",
   "execution_count": 37,
   "id": "ef7de060-8a16-4299-94aa-cb80e5089996",
   "metadata": {},
   "outputs": [
    {
     "data": {
      "text/html": [
       "<div>\n",
       "<style scoped>\n",
       "    .dataframe tbody tr th:only-of-type {\n",
       "        vertical-align: middle;\n",
       "    }\n",
       "\n",
       "    .dataframe tbody tr th {\n",
       "        vertical-align: top;\n",
       "    }\n",
       "\n",
       "    .dataframe thead th {\n",
       "        text-align: right;\n",
       "    }\n",
       "</style>\n",
       "<table border=\"1\" class=\"dataframe\">\n",
       "  <thead>\n",
       "    <tr style=\"text-align: right;\">\n",
       "      <th></th>\n",
       "      <th>long_hair</th>\n",
       "      <th>forehead_width_cm</th>\n",
       "      <th>forehead_height_cm</th>\n",
       "      <th>nose_wide</th>\n",
       "      <th>nose_long</th>\n",
       "      <th>lips_thin</th>\n",
       "      <th>distance_nose_to_lip_long</th>\n",
       "      <th>gender</th>\n",
       "    </tr>\n",
       "  </thead>\n",
       "  <tbody>\n",
       "    <tr>\n",
       "      <th>0</th>\n",
       "      <td>1</td>\n",
       "      <td>11.8</td>\n",
       "      <td>6.1</td>\n",
       "      <td>1</td>\n",
       "      <td>0</td>\n",
       "      <td>1</td>\n",
       "      <td>1</td>\n",
       "      <td>1</td>\n",
       "    </tr>\n",
       "    <tr>\n",
       "      <th>1</th>\n",
       "      <td>0</td>\n",
       "      <td>14.0</td>\n",
       "      <td>5.4</td>\n",
       "      <td>0</td>\n",
       "      <td>0</td>\n",
       "      <td>1</td>\n",
       "      <td>0</td>\n",
       "      <td>0</td>\n",
       "    </tr>\n",
       "    <tr>\n",
       "      <th>2</th>\n",
       "      <td>0</td>\n",
       "      <td>11.8</td>\n",
       "      <td>6.3</td>\n",
       "      <td>1</td>\n",
       "      <td>1</td>\n",
       "      <td>1</td>\n",
       "      <td>1</td>\n",
       "      <td>1</td>\n",
       "    </tr>\n",
       "    <tr>\n",
       "      <th>3</th>\n",
       "      <td>0</td>\n",
       "      <td>14.4</td>\n",
       "      <td>6.1</td>\n",
       "      <td>0</td>\n",
       "      <td>1</td>\n",
       "      <td>1</td>\n",
       "      <td>1</td>\n",
       "      <td>1</td>\n",
       "    </tr>\n",
       "    <tr>\n",
       "      <th>4</th>\n",
       "      <td>1</td>\n",
       "      <td>13.5</td>\n",
       "      <td>5.9</td>\n",
       "      <td>0</td>\n",
       "      <td>0</td>\n",
       "      <td>0</td>\n",
       "      <td>0</td>\n",
       "      <td>0</td>\n",
       "    </tr>\n",
       "    <tr>\n",
       "      <th>5</th>\n",
       "      <td>1</td>\n",
       "      <td>13.0</td>\n",
       "      <td>6.8</td>\n",
       "      <td>1</td>\n",
       "      <td>1</td>\n",
       "      <td>1</td>\n",
       "      <td>1</td>\n",
       "      <td>1</td>\n",
       "    </tr>\n",
       "    <tr>\n",
       "      <th>6</th>\n",
       "      <td>1</td>\n",
       "      <td>15.3</td>\n",
       "      <td>6.2</td>\n",
       "      <td>1</td>\n",
       "      <td>1</td>\n",
       "      <td>1</td>\n",
       "      <td>0</td>\n",
       "      <td>1</td>\n",
       "    </tr>\n",
       "    <tr>\n",
       "      <th>7</th>\n",
       "      <td>0</td>\n",
       "      <td>13.0</td>\n",
       "      <td>5.2</td>\n",
       "      <td>0</td>\n",
       "      <td>0</td>\n",
       "      <td>0</td>\n",
       "      <td>0</td>\n",
       "      <td>0</td>\n",
       "    </tr>\n",
       "    <tr>\n",
       "      <th>8</th>\n",
       "      <td>1</td>\n",
       "      <td>11.9</td>\n",
       "      <td>5.4</td>\n",
       "      <td>1</td>\n",
       "      <td>0</td>\n",
       "      <td>1</td>\n",
       "      <td>1</td>\n",
       "      <td>0</td>\n",
       "    </tr>\n",
       "    <tr>\n",
       "      <th>9</th>\n",
       "      <td>1</td>\n",
       "      <td>12.1</td>\n",
       "      <td>5.4</td>\n",
       "      <td>0</td>\n",
       "      <td>0</td>\n",
       "      <td>0</td>\n",
       "      <td>0</td>\n",
       "      <td>0</td>\n",
       "    </tr>\n",
       "    <tr>\n",
       "      <th>10</th>\n",
       "      <td>0</td>\n",
       "      <td>12.5</td>\n",
       "      <td>5.4</td>\n",
       "      <td>1</td>\n",
       "      <td>1</td>\n",
       "      <td>1</td>\n",
       "      <td>1</td>\n",
       "      <td>1</td>\n",
       "    </tr>\n",
       "    <tr>\n",
       "      <th>11</th>\n",
       "      <td>1</td>\n",
       "      <td>15.5</td>\n",
       "      <td>5.8</td>\n",
       "      <td>1</td>\n",
       "      <td>1</td>\n",
       "      <td>1</td>\n",
       "      <td>1</td>\n",
       "      <td>1</td>\n",
       "    </tr>\n",
       "    <tr>\n",
       "      <th>12</th>\n",
       "      <td>0</td>\n",
       "      <td>14.7</td>\n",
       "      <td>5.2</td>\n",
       "      <td>1</td>\n",
       "      <td>1</td>\n",
       "      <td>1</td>\n",
       "      <td>1</td>\n",
       "      <td>1</td>\n",
       "    </tr>\n",
       "    <tr>\n",
       "      <th>13</th>\n",
       "      <td>1</td>\n",
       "      <td>14.5</td>\n",
       "      <td>6.7</td>\n",
       "      <td>0</td>\n",
       "      <td>1</td>\n",
       "      <td>1</td>\n",
       "      <td>1</td>\n",
       "      <td>1</td>\n",
       "    </tr>\n",
       "    <tr>\n",
       "      <th>14</th>\n",
       "      <td>1</td>\n",
       "      <td>14.2</td>\n",
       "      <td>6.5</td>\n",
       "      <td>0</td>\n",
       "      <td>0</td>\n",
       "      <td>0</td>\n",
       "      <td>0</td>\n",
       "      <td>0</td>\n",
       "    </tr>\n",
       "    <tr>\n",
       "      <th>15</th>\n",
       "      <td>0</td>\n",
       "      <td>12.5</td>\n",
       "      <td>5.2</td>\n",
       "      <td>1</td>\n",
       "      <td>1</td>\n",
       "      <td>1</td>\n",
       "      <td>1</td>\n",
       "      <td>1</td>\n",
       "    </tr>\n",
       "    <tr>\n",
       "      <th>16</th>\n",
       "      <td>1</td>\n",
       "      <td>15.2</td>\n",
       "      <td>6.0</td>\n",
       "      <td>1</td>\n",
       "      <td>1</td>\n",
       "      <td>1</td>\n",
       "      <td>1</td>\n",
       "      <td>1</td>\n",
       "    </tr>\n",
       "    <tr>\n",
       "      <th>17</th>\n",
       "      <td>1</td>\n",
       "      <td>14.0</td>\n",
       "      <td>5.9</td>\n",
       "      <td>0</td>\n",
       "      <td>0</td>\n",
       "      <td>0</td>\n",
       "      <td>0</td>\n",
       "      <td>0</td>\n",
       "    </tr>\n",
       "    <tr>\n",
       "      <th>18</th>\n",
       "      <td>1</td>\n",
       "      <td>11.9</td>\n",
       "      <td>5.2</td>\n",
       "      <td>0</td>\n",
       "      <td>0</td>\n",
       "      <td>0</td>\n",
       "      <td>0</td>\n",
       "      <td>0</td>\n",
       "    </tr>\n",
       "    <tr>\n",
       "      <th>19</th>\n",
       "      <td>1</td>\n",
       "      <td>14.4</td>\n",
       "      <td>5.6</td>\n",
       "      <td>1</td>\n",
       "      <td>0</td>\n",
       "      <td>1</td>\n",
       "      <td>1</td>\n",
       "      <td>1</td>\n",
       "    </tr>\n",
       "  </tbody>\n",
       "</table>\n",
       "</div>"
      ],
      "text/plain": [
       "    long_hair  forehead_width_cm  forehead_height_cm  nose_wide  nose_long  \\\n",
       "0           1               11.8                 6.1          1          0   \n",
       "1           0               14.0                 5.4          0          0   \n",
       "2           0               11.8                 6.3          1          1   \n",
       "3           0               14.4                 6.1          0          1   \n",
       "4           1               13.5                 5.9          0          0   \n",
       "5           1               13.0                 6.8          1          1   \n",
       "6           1               15.3                 6.2          1          1   \n",
       "7           0               13.0                 5.2          0          0   \n",
       "8           1               11.9                 5.4          1          0   \n",
       "9           1               12.1                 5.4          0          0   \n",
       "10          0               12.5                 5.4          1          1   \n",
       "11          1               15.5                 5.8          1          1   \n",
       "12          0               14.7                 5.2          1          1   \n",
       "13          1               14.5                 6.7          0          1   \n",
       "14          1               14.2                 6.5          0          0   \n",
       "15          0               12.5                 5.2          1          1   \n",
       "16          1               15.2                 6.0          1          1   \n",
       "17          1               14.0                 5.9          0          0   \n",
       "18          1               11.9                 5.2          0          0   \n",
       "19          1               14.4                 5.6          1          0   \n",
       "\n",
       "    lips_thin  distance_nose_to_lip_long  gender  \n",
       "0           1                          1       1  \n",
       "1           1                          0       0  \n",
       "2           1                          1       1  \n",
       "3           1                          1       1  \n",
       "4           0                          0       0  \n",
       "5           1                          1       1  \n",
       "6           1                          0       1  \n",
       "7           0                          0       0  \n",
       "8           1                          1       0  \n",
       "9           0                          0       0  \n",
       "10          1                          1       1  \n",
       "11          1                          1       1  \n",
       "12          1                          1       1  \n",
       "13          1                          1       1  \n",
       "14          0                          0       0  \n",
       "15          1                          1       1  \n",
       "16          1                          1       1  \n",
       "17          0                          0       0  \n",
       "18          0                          0       0  \n",
       "19          1                          1       1  "
      ]
     },
     "execution_count": 37,
     "metadata": {},
     "output_type": "execute_result"
    }
   ],
   "source": [
    "# Load the dataset\n",
    "file = pd.read_csv(\"Gender_classification_dataset.csv\")\n",
    "\n",
    "# Display the first few rows of the dataset\n",
    "file.head(20)\n"
   ]
  },
  {
   "cell_type": "markdown",
   "id": "eeae555b-dbd1-4586-9185-05fd333b3cc1",
   "metadata": {},
   "source": [
    "# 3. Data Cleaning\n",
    "We'll check for missing values in the dataset and handle them by filling with the median of each column."
   ]
  },
  {
   "cell_type": "code",
   "execution_count": 38,
   "id": "1c2a7acc-1a40-4691-8551-da9021d9ef9c",
   "metadata": {},
   "outputs": [
    {
     "data": {
      "text/plain": [
       "long_hair                    0\n",
       "forehead_width_cm            0\n",
       "forehead_height_cm           0\n",
       "nose_wide                    0\n",
       "nose_long                    0\n",
       "lips_thin                    0\n",
       "distance_nose_to_lip_long    0\n",
       "gender                       0\n",
       "dtype: int64"
      ]
     },
     "execution_count": 38,
     "metadata": {},
     "output_type": "execute_result"
    }
   ],
   "source": [
    "# Check for missing values in the dataset\n",
    "file.isna().sum()"
   ]
  },
  {
   "cell_type": "markdown",
   "id": "533ab8d6-4431-4a52-abfc-acb5259b74cf",
   "metadata": {},
   "source": [
    "The output shows the number of missing values in each column. To address these, we fill missing values with the median of each column."
   ]
  },
  {
   "cell_type": "code",
   "execution_count": 39,
   "id": "eb5cdecf-2299-40f4-a7de-3693ea38be51",
   "metadata": {},
   "outputs": [
    {
     "name": "stdout",
     "output_type": "stream",
     "text": [
      "<class 'pandas.core.frame.DataFrame'>\n",
      "RangeIndex: 5001 entries, 0 to 5000\n",
      "Data columns (total 8 columns):\n",
      " #   Column                     Non-Null Count  Dtype  \n",
      "---  ------                     --------------  -----  \n",
      " 0   long_hair                  5001 non-null   int64  \n",
      " 1   forehead_width_cm          5001 non-null   float64\n",
      " 2   forehead_height_cm         5001 non-null   float64\n",
      " 3   nose_wide                  5001 non-null   int64  \n",
      " 4   nose_long                  5001 non-null   int64  \n",
      " 5   lips_thin                  5001 non-null   int64  \n",
      " 6   distance_nose_to_lip_long  5001 non-null   int64  \n",
      " 7   gender                     5001 non-null   int64  \n",
      "dtypes: float64(2), int64(6)\n",
      "memory usage: 312.7 KB\n",
      "None\n"
     ]
    }
   ],
   "source": [
    "#  look for data types\n",
    "\n",
    "print(file.info())"
   ]
  },
  {
   "cell_type": "code",
   "execution_count": 40,
   "id": "2047191a-e1bb-44e2-af53-d7737ad5e9c8",
   "metadata": {},
   "outputs": [
    {
     "data": {
      "text/plain": [
       "long_hair                    0\n",
       "forehead_width_cm            0\n",
       "forehead_height_cm           0\n",
       "nose_wide                    0\n",
       "nose_long                    0\n",
       "lips_thin                    0\n",
       "distance_nose_to_lip_long    0\n",
       "gender                       0\n",
       "dtype: int64"
      ]
     },
     "execution_count": 40,
     "metadata": {},
     "output_type": "execute_result"
    }
   ],
   "source": [
    "# Fill missing values with the median of each column\n",
    "file = file.fillna(file.median())\n",
    "\n",
    "# Verify that there are no more missing values\n",
    "file.isna().sum()\n"
   ]
  },
  {
   "cell_type": "markdown",
   "id": "d261efbf-e32f-410c-b256-da7fb2fbf407",
   "metadata": {},
   "source": [
    "# 4. Data Splitting\n",
    "We'll split the data into features (X) and labels (y). The features are the input variables, and the labels are the target variable we want to predict."
   ]
  },
  {
   "cell_type": "code",
   "execution_count": 41,
   "id": "033390cf-2ed9-4285-99cf-8c6fed09ec28",
   "metadata": {},
   "outputs": [],
   "source": [
    "# Split the data into features and labels\n",
    "x = file.drop(\"gender\", axis=1)\n",
    "y = file[\"gender\"]\n"
   ]
  },
  {
   "cell_type": "markdown",
   "id": "0b92945e-f008-46ea-96c3-7b1f397b752c",
   "metadata": {},
   "source": [
    "## Visualizing the Distribution of Target Classes\n",
    "Before splitting the data, let's visualize the distribution of the target classes to understand the balance between them."
   ]
  },
  {
   "cell_type": "code",
   "execution_count": 43,
   "id": "ac2feae5-c763-4d8f-be6f-5bd7a1253bae",
   "metadata": {},
   "outputs": [
    {
     "data": {
      "image/png": "[encoded data removed]",
      "text/plain": [
       "<Figure size 640x480 with 1 Axes>"
      ]
     },
     "metadata": {},
     "output_type": "display_data"
    }
   ],
   "source": [
    "# Plot the distribution of the target classes\n",
    "x1, x0 = y.value_counts() # count individual values and save them in corresponding variables.\n",
    "plt.bar(['Female', 'Male'], [x0, x1], color=['blue', 'green'])\n",
    "plt.xlabel('Gender') # giving label to x-axis\n",
    "plt.ylabel('Count') # Giving label to y-axis\n",
    "plt.title('Distribution of Target Classes') # Name of the plot\n",
    "plt.show()\n"
   ]
  },
  {
   "cell_type": "markdown",
   "id": "e0e632e5-367e-45ec-b1bb-6505b0a41d8f",
   "metadata": {},
   "source": [
    "# 5. Training and Testing Split\n",
    "We'll split the dataset into training and testing sets. The training set is used to build the model, while the testing set is used to evaluate its performance."
   ]
  },
  {
   "cell_type": "code",
   "execution_count": 44,
   "id": "bbab7dc0-3a4e-4c7b-a45a-daa96c3dd18a",
   "metadata": {},
   "outputs": [],
   "source": [
    "# Split the data into training and testing sets\n",
    "x_train, x_test, y_train, y_test = train_test_split(x, y, test_size=0.2, random_state=42)\n"
   ]
  },
  {
   "cell_type": "markdown",
   "id": "2d47e863-bc4d-490f-883e-c475653e9745",
   "metadata": {},
   "source": [
    "# 6. Model Training and Evaluation\n",
    "We'll train various classification models and evaluate their performance.\n",
    "\n",
    "### Naive Bayes\n",
    "First, we'll train a Naive Bayes classifier and evaluate its accuracy."
   ]
  },
  {
   "cell_type": "code",
   "execution_count": 45,
   "id": "923b60f6-b3ca-4515-9193-f0f0112cd827",
   "metadata": {},
   "outputs": [
    {
     "name": "stdout",
     "output_type": "stream",
     "text": [
      "Naive Bayes Accuracy: 95.7043%\n"
     ]
    }
   ],
   "source": [
    "from sklearn.naive_bayes import BernoulliNB\n",
    "\n",
    "# Initialize and train the Naive Bayes model\n",
    "model = BernoulliNB()\n",
    "model.fit(x_train, y_train)\n",
    "\n",
    "# Evaluate the model\n",
    "accuracy = model.score(x_test, y_test)\n",
    "print(f\"Naive Bayes Accuracy: {accuracy* 100:.4f}%\")\n"
   ]
  },
  {
   "cell_type": "markdown",
   "id": "cbd02fb7-4c1d-4dd1-9f65-16879eba636b",
   "metadata": {},
   "source": [
    "### Support Vector Machine (SVM)\n",
    "Next, we'll train a Support Vector Machine (SVM) classifier and evaluate its performance."
   ]
  },
  {
   "cell_type": "code",
   "execution_count": 46,
   "id": "1a182d8d-cef0-446a-9430-eb865f056279",
   "metadata": {},
   "outputs": [
    {
     "name": "stdout",
     "output_type": "stream",
     "text": [
      "SVM Accuracy: 96.3037%\n"
     ]
    }
   ],
   "source": [
    "from sklearn import svm\n",
    "\n",
    "# Initialize and train the SVM model\n",
    "model = svm.SVC()\n",
    "model.fit(x_train, y_train)\n",
    "\n",
    "# Evaluate the model\n",
    "accuracy = model.score(x_test, y_test)\n",
    "print(f\"SVM Accuracy: {accuracy*100:.4f}%\")\n"
   ]
  },
  {
   "cell_type": "markdown",
   "id": "d9442b42-e274-4fd2-a461-cffff8d8c606",
   "metadata": {},
   "source": [
    "# Random Forest Classifier (Selected)"
   ]
  },
  {
   "cell_type": "code",
   "execution_count": 47,
   "id": "4c029876-ffe0-47f7-ade0-e51d00f1d298",
   "metadata": {},
   "outputs": [
    {
     "name": "stdout",
     "output_type": "stream",
     "text": [
      "Random Forest classifier Accuracy: 96.2038%\n"
     ]
    }
   ],
   "source": [
    "from sklearn.ensemble import RandomForestClassifier\n",
    "model  =  RandomForestClassifier(n_jobs=100)\n",
    "model.fit(x_train, y_train)\n",
    "\n",
    "# Evaluate the model\n",
    "accuracy = model.score(x_test, y_test)\n",
    "print(f\"Random Forest classifier Accuracy: {accuracy*100:.4f}%\")"
   ]
  },
  {
   "cell_type": "markdown",
   "id": "77d0bf3b-ea8d-4a3a-8b13-114c43cf6ee4",
   "metadata": {},
   "source": [
    "# 7. Model Selection and Finalization\n",
    "After comparing the models, we see that the Random Forest classifier performs the best. We'll save this model for future use."
   ]
  },
  {
   "cell_type": "code",
   "execution_count": 48,
   "id": "b4c602ad-bbd8-4f87-b0e0-e5d7d0e8dcf8",
   "metadata": {},
   "outputs": [],
   "source": [
    "import pickle\n",
    "\n",
    "# Save the trained Naive Bayes model to a file\n",
    "filename = 'Random_Forest_trained_model.sav'\n",
    "pickle.dump(model, open(filename, 'wb'))\n"
   ]
  },
  {
   "cell_type": "markdown",
   "id": "18927217-fab3-4617-9771-0bbe74100633",
   "metadata": {},
   "source": [
    "# 8. Conclusion\n",
    "In this notebook, we:\n",
    "\n",
    "- Loaded and cleaned the dataset.\n",
    "- Split the data into training and testing sets.\n",
    "- Trained and evaluated various classification models.\n",
    "- Selected the best-performing model and saved it for future use.\n",
    "- The Random Forest Classifier achieved the highest accuracy and is therefore chosen as the final model."
   ]
  },
  {
   "cell_type": "code",
   "execution_count": null,
   "id": "77cfb6a5-6db8-4052-a39c-044e1d71c547",
   "metadata": {},
   "outputs": [],
   "source": []
  }
 ],
 "metadata": {
  "kernelspec": {
   "display_name": "Python 3 (ipykernel)",
   "language": "python",
   "name": "python3"
  },
  "language_info": {
   "codemirror_mode": {
    "name": "ipython",
    "version": 3
   },
   "file_extension": ".py",
   "mimetype": "text/x-python",
   "name": "python",
   "nbconvert_exporter": "python",
   "pygments_lexer": "ipython3",
   "version": "3.10.12"
  }
 },
 "nbformat": 4,
 "nbformat_minor": 5
}
